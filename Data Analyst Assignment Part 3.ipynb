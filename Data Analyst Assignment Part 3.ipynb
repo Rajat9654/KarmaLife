{
 "cells": [
  {
   "cell_type": "code",
   "execution_count": 1,
   "metadata": {},
   "outputs": [],
   "source": [
    "#Importing Re library for text manuplation\n",
    "import re\n",
    "\n",
    "def String_Dict(str):\n",
    "    Strings = str.split()\n",
    "    # Removing special characters  to remove duplicate sets being created\n",
    "    Strings = [re.sub('[^a-zA-Z0-9]+', '', word) for word in Strings]\n",
    "    # lower case the word to remove duplicate sets being created\n",
    "    Strings = [word.lower() for word in Strings]\n",
    "    \n",
    "    counts = dict()\n",
    "\n",
    "    for word in Strings:\n",
    "        if word in counts:\n",
    "            counts[word] += 1\n",
    "        else:\n",
    "            counts[word] = 1\n",
    "    return counts"
   ]
  },
  {
   "cell_type": "code",
   "execution_count": 2,
   "metadata": {},
   "outputs": [
    {
     "data": {
      "text/plain": [
       "{'hi': 1, 'test': 3}"
      ]
     },
     "execution_count": 2,
     "metadata": {},
     "output_type": "execute_result"
    }
   ],
   "source": [
    "#Testing\n",
    "String_Dict('hi ,Test test Test')"
   ]
  }
 ],
 "metadata": {
  "kernelspec": {
   "display_name": "Python 3",
   "language": "python",
   "name": "python3"
  },
  "language_info": {
   "codemirror_mode": {
    "name": "ipython",
    "version": 3
   },
   "file_extension": ".py",
   "mimetype": "text/x-python",
   "name": "python",
   "nbconvert_exporter": "python",
   "pygments_lexer": "ipython3",
   "version": "3.7.4"
  }
 },
 "nbformat": 4,
 "nbformat_minor": 4
}
