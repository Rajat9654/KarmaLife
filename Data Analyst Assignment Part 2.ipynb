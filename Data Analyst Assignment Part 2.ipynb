{
 "cells": [
  {
   "cell_type": "code",
   "execution_count": 1,
   "metadata": {},
   "outputs": [],
   "source": [
    "import pandas as pd\n",
    "Path = r'C:\\Users\\rgupta4\\Assignment For DA Candidates\\Data Analyst Assignment Part 2'"
   ]
  },
  {
   "cell_type": "code",
   "execution_count": 2,
   "metadata": {},
   "outputs": [
    {
     "data": {
      "text/plain": [
       "(9, 8)"
      ]
     },
     "execution_count": 2,
     "metadata": {},
     "output_type": "execute_result"
    }
   ],
   "source": [
    "bigkart_newsales = pd.read_csv(Path + '\\\\' + 'bigkart_newsales.csv')\n",
    "bigkart_newsales.shape"
   ]
  },
  {
   "cell_type": "code",
   "execution_count": 3,
   "metadata": {},
   "outputs": [
    {
     "data": {
      "text/html": [
       "<div>\n",
       "<style scoped>\n",
       "    .dataframe tbody tr th:only-of-type {\n",
       "        vertical-align: middle;\n",
       "    }\n",
       "\n",
       "    .dataframe tbody tr th {\n",
       "        vertical-align: top;\n",
       "    }\n",
       "\n",
       "    .dataframe thead th {\n",
       "        text-align: right;\n",
       "    }\n",
       "</style>\n",
       "<table border=\"1\" class=\"dataframe\">\n",
       "  <thead>\n",
       "    <tr style=\"text-align: right;\">\n",
       "      <th></th>\n",
       "      <th>Order ID</th>\n",
       "      <th>Product Name</th>\n",
       "      <th>Discount</th>\n",
       "      <th>Sales</th>\n",
       "      <th>Profit</th>\n",
       "      <th>Quantity</th>\n",
       "      <th>Category</th>\n",
       "      <th>Sub-Category</th>\n",
       "    </tr>\n",
       "  </thead>\n",
       "  <tbody>\n",
       "    <tr>\n",
       "      <td>0</td>\n",
       "      <td>AZ-2011-1902971</td>\n",
       "      <td>Wilson Jones Binding Machine, Clear</td>\n",
       "      <td>0.0</td>\n",
       "      <td>339</td>\n",
       "      <td>102</td>\n",
       "      <td>7</td>\n",
       "      <td>Office Supplies</td>\n",
       "      <td>Binders</td>\n",
       "    </tr>\n",
       "    <tr>\n",
       "      <td>1</td>\n",
       "      <td>AZ-2011-1916360</td>\n",
       "      <td>Dania 3-Shelf Cabinet, Mobile</td>\n",
       "      <td>0.0</td>\n",
       "      <td>288</td>\n",
       "      <td>20</td>\n",
       "      <td>2</td>\n",
       "      <td>Furniture</td>\n",
       "      <td>Bookcases</td>\n",
       "    </tr>\n",
       "    <tr>\n",
       "      <td>2</td>\n",
       "      <td>AZ-2011-1916555</td>\n",
       "      <td>Eldon Folders, Single Width</td>\n",
       "      <td>0.4</td>\n",
       "      <td>61</td>\n",
       "      <td>7</td>\n",
       "      <td>6</td>\n",
       "      <td>Office Supplies</td>\n",
       "      <td>Storage</td>\n",
       "    </tr>\n",
       "    <tr>\n",
       "      <td>3</td>\n",
       "      <td>AZ-2011-1930058</td>\n",
       "      <td>Sanford Markers, Easy-Erase</td>\n",
       "      <td>0.0</td>\n",
       "      <td>71</td>\n",
       "      <td>1</td>\n",
       "      <td>3</td>\n",
       "      <td>Office Supplies</td>\n",
       "      <td>Art</td>\n",
       "    </tr>\n",
       "    <tr>\n",
       "      <td>4</td>\n",
       "      <td>AZ-2011-1967754</td>\n",
       "      <td>Logitech Numeric Keypad, USB</td>\n",
       "      <td>0.0</td>\n",
       "      <td>93</td>\n",
       "      <td>40</td>\n",
       "      <td>2</td>\n",
       "      <td>Technology</td>\n",
       "      <td>Accessories</td>\n",
       "    </tr>\n",
       "  </tbody>\n",
       "</table>\n",
       "</div>"
      ],
      "text/plain": [
       "          Order ID                         Product Name  Discount  Sales  \\\n",
       "0  AZ-2011-1902971  Wilson Jones Binding Machine, Clear       0.0    339   \n",
       "1  AZ-2011-1916360        Dania 3-Shelf Cabinet, Mobile       0.0    288   \n",
       "2  AZ-2011-1916555          Eldon Folders, Single Width       0.4     61   \n",
       "3  AZ-2011-1930058          Sanford Markers, Easy-Erase       0.0     71   \n",
       "4  AZ-2011-1967754         Logitech Numeric Keypad, USB       0.0     93   \n",
       "\n",
       "   Profit  Quantity         Category Sub-Category  \n",
       "0     102         7  Office Supplies      Binders  \n",
       "1      20         2        Furniture    Bookcases  \n",
       "2       7         6  Office Supplies      Storage  \n",
       "3       1         3  Office Supplies          Art  \n",
       "4      40         2       Technology  Accessories  "
      ]
     },
     "execution_count": 3,
     "metadata": {},
     "output_type": "execute_result"
    }
   ],
   "source": [
    "bigkart_newsales.head()"
   ]
  },
  {
   "cell_type": "code",
   "execution_count": 4,
   "metadata": {},
   "outputs": [
    {
     "data": {
      "text/plain": [
       "(59, 8)"
      ]
     },
     "execution_count": 4,
     "metadata": {},
     "output_type": "execute_result"
    }
   ],
   "source": [
    "bigkart_sales = pd.read_csv(Path + '\\\\' + 'bigkart_sales.csv')\n",
    "bigkart_sales.shape"
   ]
  },
  {
   "cell_type": "code",
   "execution_count": 5,
   "metadata": {},
   "outputs": [
    {
     "data": {
      "text/html": [
       "<div>\n",
       "<style scoped>\n",
       "    .dataframe tbody tr th:only-of-type {\n",
       "        vertical-align: middle;\n",
       "    }\n",
       "\n",
       "    .dataframe tbody tr th {\n",
       "        vertical-align: top;\n",
       "    }\n",
       "\n",
       "    .dataframe thead th {\n",
       "        text-align: right;\n",
       "    }\n",
       "</style>\n",
       "<table border=\"1\" class=\"dataframe\">\n",
       "  <thead>\n",
       "    <tr style=\"text-align: right;\">\n",
       "      <th></th>\n",
       "      <th>Order ID</th>\n",
       "      <th>Product Name</th>\n",
       "      <th>Discount</th>\n",
       "      <th>Sales</th>\n",
       "      <th>Profit</th>\n",
       "      <th>Quantity</th>\n",
       "      <th>Category</th>\n",
       "      <th>Sub-Category</th>\n",
       "    </tr>\n",
       "  </thead>\n",
       "  <tbody>\n",
       "    <tr>\n",
       "      <td>0</td>\n",
       "      <td>AZ-2011-1029887</td>\n",
       "      <td>Novimex Color Coded Labels, 5000 Label Set</td>\n",
       "      <td>0.0</td>\n",
       "      <td>26</td>\n",
       "      <td>7</td>\n",
       "      <td>2</td>\n",
       "      <td>Office Supplies</td>\n",
       "      <td>Labels</td>\n",
       "    </tr>\n",
       "    <tr>\n",
       "      <td>1</td>\n",
       "      <td>AZ-2011-107716</td>\n",
       "      <td>Deflect-O Door Stop, Erganomic</td>\n",
       "      <td>0.0</td>\n",
       "      <td>85</td>\n",
       "      <td>15</td>\n",
       "      <td>2</td>\n",
       "      <td>Furniture</td>\n",
       "      <td>Furnishings</td>\n",
       "    </tr>\n",
       "    <tr>\n",
       "      <td>2</td>\n",
       "      <td>AZ-2011-1087704</td>\n",
       "      <td>Belkin Flash Drive, Bluetooth</td>\n",
       "      <td>0.0</td>\n",
       "      <td>294</td>\n",
       "      <td>109</td>\n",
       "      <td>7</td>\n",
       "      <td>Technology</td>\n",
       "      <td>Accessories</td>\n",
       "    </tr>\n",
       "    <tr>\n",
       "      <td>3</td>\n",
       "      <td>AZ-2011-1372644</td>\n",
       "      <td>Panasonic Printer, Durable</td>\n",
       "      <td>0.0</td>\n",
       "      <td>800</td>\n",
       "      <td>168</td>\n",
       "      <td>3</td>\n",
       "      <td>Technology</td>\n",
       "      <td>Machines</td>\n",
       "    </tr>\n",
       "    <tr>\n",
       "      <td>4</td>\n",
       "      <td>AZ-2011-1362199</td>\n",
       "      <td>Sanford Pens, Fluorescent</td>\n",
       "      <td>0.5</td>\n",
       "      <td>25</td>\n",
       "      <td>-11</td>\n",
       "      <td>4</td>\n",
       "      <td>Office Supplies</td>\n",
       "      <td>Art</td>\n",
       "    </tr>\n",
       "  </tbody>\n",
       "</table>\n",
       "</div>"
      ],
      "text/plain": [
       "          Order ID                                Product Name  Discount  \\\n",
       "0  AZ-2011-1029887  Novimex Color Coded Labels, 5000 Label Set       0.0   \n",
       "1   AZ-2011-107716              Deflect-O Door Stop, Erganomic       0.0   \n",
       "2  AZ-2011-1087704               Belkin Flash Drive, Bluetooth       0.0   \n",
       "3  AZ-2011-1372644                  Panasonic Printer, Durable       0.0   \n",
       "4  AZ-2011-1362199                   Sanford Pens, Fluorescent       0.5   \n",
       "\n",
       "   Sales  Profit  Quantity         Category Sub-Category  \n",
       "0     26       7         2  Office Supplies       Labels  \n",
       "1     85      15         2        Furniture  Furnishings  \n",
       "2    294     109         7       Technology  Accessories  \n",
       "3    800     168         3       Technology     Machines  \n",
       "4     25     -11         4  Office Supplies          Art  "
      ]
     },
     "execution_count": 5,
     "metadata": {},
     "output_type": "execute_result"
    }
   ],
   "source": [
    "bigkart_sales.head()"
   ]
  },
  {
   "cell_type": "code",
   "execution_count": 6,
   "metadata": {},
   "outputs": [
    {
     "data": {
      "text/plain": [
       "(68, 8)"
      ]
     },
     "execution_count": 6,
     "metadata": {},
     "output_type": "execute_result"
    }
   ],
   "source": [
    "# Question 1: Some of the orders are stored in another csv file named `bigkart_newsales`. \n",
    "#     Read the csv file, store it in a data frame and add it to the `bigkart_sales` data frame. \n",
    "#     Find the total sales value of the category 'Office Supplies' after combining the dataframes\n",
    "\n",
    "bigkart_combined = pd.concat([bigkart_sales,bigkart_newsales],ignore_index = True)\n",
    "bigkart_combined.shape"
   ]
  },
  {
   "cell_type": "code",
   "execution_count": 7,
   "metadata": {},
   "outputs": [
    {
     "data": {
      "text/html": [
       "<div>\n",
       "<style scoped>\n",
       "    .dataframe tbody tr th:only-of-type {\n",
       "        vertical-align: middle;\n",
       "    }\n",
       "\n",
       "    .dataframe tbody tr th {\n",
       "        vertical-align: top;\n",
       "    }\n",
       "\n",
       "    .dataframe thead th {\n",
       "        text-align: right;\n",
       "    }\n",
       "</style>\n",
       "<table border=\"1\" class=\"dataframe\">\n",
       "  <thead>\n",
       "    <tr style=\"text-align: right;\">\n",
       "      <th></th>\n",
       "      <th>Order ID</th>\n",
       "      <th>Product Name</th>\n",
       "      <th>Discount</th>\n",
       "      <th>Sales</th>\n",
       "      <th>Profit</th>\n",
       "      <th>Quantity</th>\n",
       "      <th>Category</th>\n",
       "      <th>Sub-Category</th>\n",
       "    </tr>\n",
       "  </thead>\n",
       "  <tbody>\n",
       "    <tr>\n",
       "      <td>0</td>\n",
       "      <td>AZ-2011-1029887</td>\n",
       "      <td>Novimex Color Coded Labels, 5000 Label Set</td>\n",
       "      <td>0.0</td>\n",
       "      <td>26</td>\n",
       "      <td>7</td>\n",
       "      <td>2</td>\n",
       "      <td>Office Supplies</td>\n",
       "      <td>Labels</td>\n",
       "    </tr>\n",
       "    <tr>\n",
       "      <td>1</td>\n",
       "      <td>AZ-2011-107716</td>\n",
       "      <td>Deflect-O Door Stop, Erganomic</td>\n",
       "      <td>0.0</td>\n",
       "      <td>85</td>\n",
       "      <td>15</td>\n",
       "      <td>2</td>\n",
       "      <td>Furniture</td>\n",
       "      <td>Furnishings</td>\n",
       "    </tr>\n",
       "    <tr>\n",
       "      <td>2</td>\n",
       "      <td>AZ-2011-1087704</td>\n",
       "      <td>Belkin Flash Drive, Bluetooth</td>\n",
       "      <td>0.0</td>\n",
       "      <td>294</td>\n",
       "      <td>109</td>\n",
       "      <td>7</td>\n",
       "      <td>Technology</td>\n",
       "      <td>Accessories</td>\n",
       "    </tr>\n",
       "    <tr>\n",
       "      <td>3</td>\n",
       "      <td>AZ-2011-1372644</td>\n",
       "      <td>Panasonic Printer, Durable</td>\n",
       "      <td>0.0</td>\n",
       "      <td>800</td>\n",
       "      <td>168</td>\n",
       "      <td>3</td>\n",
       "      <td>Technology</td>\n",
       "      <td>Machines</td>\n",
       "    </tr>\n",
       "    <tr>\n",
       "      <td>4</td>\n",
       "      <td>AZ-2011-1362199</td>\n",
       "      <td>Sanford Pens, Fluorescent</td>\n",
       "      <td>0.5</td>\n",
       "      <td>25</td>\n",
       "      <td>-11</td>\n",
       "      <td>4</td>\n",
       "      <td>Office Supplies</td>\n",
       "      <td>Art</td>\n",
       "    </tr>\n",
       "  </tbody>\n",
       "</table>\n",
       "</div>"
      ],
      "text/plain": [
       "          Order ID                                Product Name  Discount  \\\n",
       "0  AZ-2011-1029887  Novimex Color Coded Labels, 5000 Label Set       0.0   \n",
       "1   AZ-2011-107716              Deflect-O Door Stop, Erganomic       0.0   \n",
       "2  AZ-2011-1087704               Belkin Flash Drive, Bluetooth       0.0   \n",
       "3  AZ-2011-1372644                  Panasonic Printer, Durable       0.0   \n",
       "4  AZ-2011-1362199                   Sanford Pens, Fluorescent       0.5   \n",
       "\n",
       "   Sales  Profit  Quantity         Category Sub-Category  \n",
       "0     26       7         2  Office Supplies       Labels  \n",
       "1     85      15         2        Furniture  Furnishings  \n",
       "2    294     109         7       Technology  Accessories  \n",
       "3    800     168         3       Technology     Machines  \n",
       "4     25     -11         4  Office Supplies          Art  "
      ]
     },
     "execution_count": 7,
     "metadata": {},
     "output_type": "execute_result"
    }
   ],
   "source": [
    "bigkart_combined.head()"
   ]
  },
  {
   "cell_type": "code",
   "execution_count": 8,
   "metadata": {},
   "outputs": [
    {
     "data": {
      "text/plain": [
       "Category\n",
       "Office Supplies    7970\n",
       "Name: Sales, dtype: int64"
      ]
     },
     "execution_count": 8,
     "metadata": {},
     "output_type": "execute_result"
    }
   ],
   "source": [
    "#Filtering data based on Office supplies\n",
    "bigkart_combined_OS = bigkart_combined[bigkart_combined['Category'] == 'Office Supplies']\n",
    "#Grouping by Sales amount\n",
    "bigkart_combined_OS.groupby(['Category'])['Sales'].sum()\n",
    "#Q1 Ans"
   ]
  },
  {
   "cell_type": "code",
   "execution_count": 9,
   "metadata": {},
   "outputs": [
    {
     "data": {
      "text/plain": [
       "(61, 8)"
      ]
     },
     "execution_count": 9,
     "metadata": {},
     "output_type": "execute_result"
    }
   ],
   "source": [
    "#Question 2: There are some duplicate rows in the data frame. \n",
    "#Drop these rows and calculate the total sales value of the category Office Supplies.\n",
    "bigkart_combined_unique = bigkart_combined.drop_duplicates(keep='first')\n",
    "bigkart_combined_unique.shape"
   ]
  },
  {
   "cell_type": "code",
   "execution_count": 10,
   "metadata": {},
   "outputs": [
    {
     "data": {
      "text/plain": [
       "Category\n",
       "Office Supplies    6964\n",
       "Name: Sales, dtype: int64"
      ]
     },
     "execution_count": 10,
     "metadata": {},
     "output_type": "execute_result"
    }
   ],
   "source": [
    "#Filtering data based on Office supplies\n",
    "bigkart_combined_unique_OS = bigkart_combined_unique[bigkart_combined_unique['Category'] == 'Office Supplies']\n",
    "#Grouping by Sales amount\n",
    "bigkart_combined_unique_OS.groupby(['Category'])['Sales'].sum()\n",
    "#Q2 Ans"
   ]
  },
  {
   "cell_type": "code",
   "execution_count": 11,
   "metadata": {},
   "outputs": [
    {
     "data": {
      "text/plain": [
       "Category    Sub-Category\n",
       "Technology  Phones          5199\n",
       "Name: Sales, dtype: int64"
      ]
     },
     "execution_count": 11,
     "metadata": {},
     "output_type": "execute_result"
    }
   ],
   "source": [
    "# Question 3: Find the most profitable category and sub category combination based on the net profit.\n",
    "bigkart_combined_unique.groupby(['Category','Sub-Category'])['Sales'].agg(sum).nlargest(1)\n",
    "#Q3 Ans"
   ]
  },
  {
   "cell_type": "code",
   "execution_count": 12,
   "metadata": {},
   "outputs": [
    {
     "name": "stdout",
     "output_type": "stream",
     "text": [
      "Invalid Orders =  7\n"
     ]
    }
   ],
   "source": [
    "# Question 4: How many invalid order IDs are there in the data frame. \n",
    "# An order id is of the form AZ-2011-Y where Y represents a whole number. \n",
    "# A Order ID is said to be valid only if Y consists of 7 digits. \n",
    "# Find the number of invalid order order IDs in the data frame.\n",
    "\n",
    "Invalid_order_Count = 0\n",
    "for orders in bigkart_combined_unique['Order ID']:\n",
    "    ID = orders.split('-')[2]\n",
    "    if len(ID) != 7 :\n",
    "        Invalid_order_Count += 1\n",
    "\n",
    "print(\"Invalid Orders = \",Invalid_order_Count)"
   ]
  },
  {
   "cell_type": "code",
   "execution_count": 13,
   "metadata": {},
   "outputs": [
    {
     "data": {
      "text/html": [
       "<div>\n",
       "<style scoped>\n",
       "    .dataframe tbody tr th:only-of-type {\n",
       "        vertical-align: middle;\n",
       "    }\n",
       "\n",
       "    .dataframe tbody tr th {\n",
       "        vertical-align: top;\n",
       "    }\n",
       "\n",
       "    .dataframe thead th {\n",
       "        text-align: right;\n",
       "    }\n",
       "</style>\n",
       "<table border=\"1\" class=\"dataframe\">\n",
       "  <thead>\n",
       "    <tr style=\"text-align: right;\">\n",
       "      <th></th>\n",
       "      <th>Order ID</th>\n",
       "      <th>Product Name</th>\n",
       "      <th>Discount</th>\n",
       "      <th>Sales</th>\n",
       "      <th>Profit</th>\n",
       "      <th>Quantity</th>\n",
       "      <th>Category</th>\n",
       "      <th>Sub-Category</th>\n",
       "    </tr>\n",
       "  </thead>\n",
       "  <tbody>\n",
       "    <tr>\n",
       "      <td>31</td>\n",
       "      <td>AZ-2011-144325</td>\n",
       "      <td>Bush Stackable Bookrack, Pine</td>\n",
       "      <td>0.0</td>\n",
       "      <td>630</td>\n",
       "      <td>132</td>\n",
       "      <td>5</td>\n",
       "      <td>Furniture</td>\n",
       "      <td>Bookcases</td>\n",
       "    </tr>\n",
       "    <tr>\n",
       "      <td>12</td>\n",
       "      <td>AZ-2011-1253407</td>\n",
       "      <td>Safco Stackable Bookrack, Pine</td>\n",
       "      <td>0.1</td>\n",
       "      <td>541</td>\n",
       "      <td>156</td>\n",
       "      <td>4</td>\n",
       "      <td>Furniture</td>\n",
       "      <td>Bookcases</td>\n",
       "    </tr>\n",
       "    <tr>\n",
       "      <td>17</td>\n",
       "      <td>AZ-2011-130330</td>\n",
       "      <td>Office Star Chairmat, Adjustable</td>\n",
       "      <td>0.1</td>\n",
       "      <td>307</td>\n",
       "      <td>99</td>\n",
       "      <td>5</td>\n",
       "      <td>Furniture</td>\n",
       "      <td>Chairs</td>\n",
       "    </tr>\n",
       "    <tr>\n",
       "      <td>60</td>\n",
       "      <td>AZ-2011-1916360</td>\n",
       "      <td>Dania 3-Shelf Cabinet, Mobile</td>\n",
       "      <td>0.0</td>\n",
       "      <td>288</td>\n",
       "      <td>20</td>\n",
       "      <td>2</td>\n",
       "      <td>Furniture</td>\n",
       "      <td>Bookcases</td>\n",
       "    </tr>\n",
       "    <tr>\n",
       "      <td>43</td>\n",
       "      <td>AZ-2011-1589827</td>\n",
       "      <td>Novimex Steel Folding Chair, Red</td>\n",
       "      <td>0.6</td>\n",
       "      <td>164</td>\n",
       "      <td>-70</td>\n",
       "      <td>5</td>\n",
       "      <td>Furniture</td>\n",
       "      <td>Chairs</td>\n",
       "    </tr>\n",
       "  </tbody>\n",
       "</table>\n",
       "</div>"
      ],
      "text/plain": [
       "           Order ID                      Product Name  Discount  Sales  \\\n",
       "31   AZ-2011-144325     Bush Stackable Bookrack, Pine       0.0    630   \n",
       "12  AZ-2011-1253407    Safco Stackable Bookrack, Pine       0.1    541   \n",
       "17   AZ-2011-130330  Office Star Chairmat, Adjustable       0.1    307   \n",
       "60  AZ-2011-1916360     Dania 3-Shelf Cabinet, Mobile       0.0    288   \n",
       "43  AZ-2011-1589827  Novimex Steel Folding Chair, Red       0.6    164   \n",
       "\n",
       "    Profit  Quantity   Category Sub-Category  \n",
       "31     132         5  Furniture    Bookcases  \n",
       "12     156         4  Furniture    Bookcases  \n",
       "17      99         5  Furniture       Chairs  \n",
       "60      20         2  Furniture    Bookcases  \n",
       "43     -70         5  Furniture       Chairs  "
      ]
     },
     "execution_count": 13,
     "metadata": {},
     "output_type": "execute_result"
    }
   ],
   "source": [
    "# Question 5: Find the top 25 orders based on sales value and find the number of orders which belong to furniture category.\n",
    "bigkart_combined_unique_top25_sales =  bigkart_combined_unique.sort_values(['Sales'], ascending = False).head(25)\n",
    "\n",
    "#orders which belong to furniture category\n",
    "bigkart_combined_unique_top25_sales[bigkart_combined_unique_top25_sales['Category'] == 'Furniture']"
   ]
  },
  {
   "cell_type": "code",
   "execution_count": 14,
   "metadata": {},
   "outputs": [
    {
     "data": {
      "text/html": [
       "<div>\n",
       "<style scoped>\n",
       "    .dataframe tbody tr th:only-of-type {\n",
       "        vertical-align: middle;\n",
       "    }\n",
       "\n",
       "    .dataframe tbody tr th {\n",
       "        vertical-align: top;\n",
       "    }\n",
       "\n",
       "    .dataframe thead th {\n",
       "        text-align: right;\n",
       "    }\n",
       "</style>\n",
       "<table border=\"1\" class=\"dataframe\">\n",
       "  <thead>\n",
       "    <tr style=\"text-align: right;\">\n",
       "      <th></th>\n",
       "      <th>Order ID</th>\n",
       "      <th>Product Name</th>\n",
       "      <th>Discount</th>\n",
       "      <th>Sales</th>\n",
       "      <th>Profit</th>\n",
       "      <th>Quantity</th>\n",
       "      <th>Category</th>\n",
       "      <th>Sub-Category</th>\n",
       "    </tr>\n",
       "  </thead>\n",
       "  <tbody>\n",
       "    <tr>\n",
       "      <td>20</td>\n",
       "      <td>AZ-2011-1322840</td>\n",
       "      <td>Motorola Headset, with Caller ID</td>\n",
       "      <td>0.0</td>\n",
       "      <td>957</td>\n",
       "      <td>316</td>\n",
       "      <td>12</td>\n",
       "      <td>Technology</td>\n",
       "      <td>Phones</td>\n",
       "    </tr>\n",
       "  </tbody>\n",
       "</table>\n",
       "</div>"
      ],
      "text/plain": [
       "           Order ID                      Product Name  Discount  Sales  \\\n",
       "20  AZ-2011-1322840  Motorola Headset, with Caller ID       0.0    957   \n",
       "\n",
       "    Profit  Quantity    Category Sub-Category  \n",
       "20     316        12  Technology       Phones  "
      ]
     },
     "execution_count": 14,
     "metadata": {},
     "output_type": "execute_result"
    }
   ],
   "source": [
    "# Question 6: Among the orders with sales>250 and profit>50, \n",
    "# find the product name of the fourth highest order based on sales value.\n",
    "\n",
    "bigkart_combined_unique_SP = bigkart_combined_unique[(bigkart_combined_unique['Sales'] > 250) & (bigkart_combined_unique['Profit']>50)]\n",
    "\n",
    "bigkart_combined_unique_SP.sort_values(['Sales'], ascending = False)[3:4]"
   ]
  },
  {
   "cell_type": "code",
   "execution_count": 16,
   "metadata": {},
   "outputs": [
    {
     "data": {
      "text/html": [
       "<div>\n",
       "<style scoped>\n",
       "    .dataframe tbody tr th:only-of-type {\n",
       "        vertical-align: middle;\n",
       "    }\n",
       "\n",
       "    .dataframe tbody tr th {\n",
       "        vertical-align: top;\n",
       "    }\n",
       "\n",
       "    .dataframe thead th {\n",
       "        text-align: right;\n",
       "    }\n",
       "</style>\n",
       "<table border=\"1\" class=\"dataframe\">\n",
       "  <thead>\n",
       "    <tr style=\"text-align: right;\">\n",
       "      <th></th>\n",
       "      <th>Order ID</th>\n",
       "      <th>Product Name</th>\n",
       "      <th>Discount</th>\n",
       "      <th>Sales</th>\n",
       "      <th>Profit</th>\n",
       "      <th>Quantity</th>\n",
       "      <th>Category</th>\n",
       "      <th>Sub-Category</th>\n",
       "      <th>Profit_per_Quantity</th>\n",
       "    </tr>\n",
       "  </thead>\n",
       "  <tbody>\n",
       "    <tr>\n",
       "      <td>39</td>\n",
       "      <td>AZ-2011-1536006</td>\n",
       "      <td>Logitech Keyboard, Programmable</td>\n",
       "      <td>0.0</td>\n",
       "      <td>666</td>\n",
       "      <td>66</td>\n",
       "      <td>9</td>\n",
       "      <td>Technology</td>\n",
       "      <td>Accessories</td>\n",
       "      <td>7.333333</td>\n",
       "    </tr>\n",
       "  </tbody>\n",
       "</table>\n",
       "</div>"
      ],
      "text/plain": [
       "           Order ID                     Product Name  Discount  Sales  Profit  \\\n",
       "39  AZ-2011-1536006  Logitech Keyboard, Programmable       0.0    666      66   \n",
       "\n",
       "    Quantity    Category Sub-Category  Profit_per_Quantity  \n",
       "39         9  Technology  Accessories             7.333333  "
      ]
     },
     "execution_count": 16,
     "metadata": {},
     "output_type": "execute_result"
    }
   ],
   "source": [
    "# Question 7: Remove the orders with negative profit by dropping the corresponding rows with negative `Profit`. \n",
    "#     Find the product that makes the lowest profit per Quantity in the Technology category.\n",
    "\n",
    "bigkart_combined_unique_NoNegative = bigkart_combined_unique[bigkart_combined_unique['Profit'] > 0] \n",
    "bigkart_combined_unique_NoNegative_Tech = bigkart_combined_unique_NoNegative[bigkart_combined_unique_NoNegative['Category'] == 'Technology']\n",
    "bigkart_combined_unique_NoNegative_Tech.loc[:,'Profit_per_Quantity'] = bigkart_combined_unique_NoNegative_Tech.loc[:,'Profit'] / bigkart_combined_unique_NoNegative_Tech.loc[:,'Quantity'] \n",
    "bigkart_combined_unique_NoNegative_Tech.sort_values(['Profit_per_Quantity'])[:1]"
   ]
  }
 ],
 "metadata": {
  "kernelspec": {
   "display_name": "Python 3",
   "language": "python",
   "name": "python3"
  },
  "language_info": {
   "codemirror_mode": {
    "name": "ipython",
    "version": 3
   },
   "file_extension": ".py",
   "mimetype": "text/x-python",
   "name": "python",
   "nbconvert_exporter": "python",
   "pygments_lexer": "ipython3",
   "version": "3.7.4"
  }
 },
 "nbformat": 4,
 "nbformat_minor": 2
}
